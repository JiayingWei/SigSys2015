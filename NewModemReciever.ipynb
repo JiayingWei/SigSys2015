{
 "metadata": {
  "name": "",
  "signature": "sha256:9fd5475d937392c96e4d9b3b414b8e661556b23dbaa70a5a44550112008f660b"
 },
 "nbformat": 3,
 "nbformat_minor": 0,
 "worksheets": [
  {
   "cells": [
    {
     "cell_type": "code",
     "collapsed": false,
     "input": [
      "from scipy.io import wavfile\n",
      "import numpy as np\n",
      "import matplotlib.pyplot as mplib\n",
      "import thinkdsp\n",
      "from array import array\n",
      "%matplotlib inline\n",
      "\n",
      "\n",
      "def string2NPArray(s):\n",
      "    \"\"\"\n",
      "    This function converts a string into a numpy array of bits\n",
      "    note that it is assumed that each character is 7 bits long here\n",
      "    \"\"\"\n",
      "    bits = np.array([])\n",
      "    for a in bytearray(s, 'ascii'):\n",
      "        for b in range(0,7):\n",
      "            bits = np.append(bits,float((a>>(7-b-1))&1))\n",
      "    return bits\n",
      "\n",
      "\n",
      "def NPbits2String(bits):\n",
      "    \"\"\"\n",
      "    This function converts a numpy array of bits to a string\n",
      "    note that it is assumed that each character is 7 bits long here\n",
      "    \"\"\"\n",
      "    S = \"\"\n",
      "    for a in np.arange(0, np.ceil(len(bits)/7)):\n",
      "        tmp = 0\n",
      "        for k in np.arange(0,7):\n",
      "            b = bits[a*7+k]\n",
      "            tmp = tmp + (2**(6-k))*b\n",
      "        S = S + chr(int(tmp))\n",
      "    return S\n",
      "\n",
      "\n",
      "def convert_to_int16(sig):\n",
      "    \"\"\"\n",
      "    this function is used to help convert numpy array data into a format\n",
      "    suitable for writing into a wave file\n",
      "    \"\"\"\n",
      "    # convert into int16  to write as wave\n",
      "    sig = (sig/np.max(sig))*(2**14)\n",
      "    sig = sig.astype('int16')\n",
      "    return sig\n",
      "\n",
      "\n",
      "    \n",
      "def find_start_and_end(xf, threshold = 2000): \n",
      "    \"\"\"\n",
      "    this is a utility function that  finds the start and  end \n",
      "    of transmission in the numpy array of samples xf\n",
      "    \n",
      "    The function looks for the first instance where the entries of xf\n",
      "    go above threshold and returns the index into xf where this happens\n",
      "    in start_idx\n",
      "    \n",
      "    The function looks for the last instance where the entries of xf\n",
      "    are above threshold and returns the index into xf where this happens\n",
      "    in end_idx\n",
      "\n",
      "    You will probably have to do some trial and error to get the threshold right\n",
      "    one possibility is to se the threshold equal to some factor of the maximum value\n",
      "    in the input signal,  e.g. 0.3 * maximum value in xf\n",
      "\n",
      "    \"\"\"\n",
      "    start_idx = -1\n",
      "    print(threshold)\n",
      "    for k in range(0, len(xf)):\n",
      "        if(np.abs(xf[k])) > threshold:\n",
      "            start_idx = k\n",
      "            break\n",
      "\n",
      "    if(start_idx  < 0):\n",
      "        print \"Unable to detect start of transmission\"\n",
      "        return -1\n",
      "    \n",
      "    end_idx = -1\n",
      "    \n",
      "    for k in range(0, len(xf)):\n",
      "        if(np.abs(xf[len(xf)-k-1])) > threshold:\n",
      "            end_idx = len(xf)-k-1\n",
      "            break\n",
      "\n",
      "    if(end_idx < 0):\n",
      "        print \"Unable to detect end of transmission\"\n",
      "        return -1\n",
      "\n",
      "    return start_idx, end_idx\n",
      "\n",
      "##########################################3\n",
      "def select_segment(wave):\n",
      "    start,end = find_start_and_end(wave.ys, 0.90*max(wave.ys))\n",
      "    wave = thinkdsp.Wave(np.array(wave.ys[start: end]), wave.framerate)\n",
      "    return wave\n",
      "\n",
      "def isolate_clicks(wave, frequency, phase=0):\n",
      "    \"\"\"\n",
      "    Takes the recieved wave and multiplies it with a sin wave of the same frequency to get back the original binary\n",
      "    signal\n",
      "    \"\"\"\n",
      "    #TODO: Check multiple sin waves if there seems to be phase offset problems\n",
      "    t = np.arange(0, float(len(wave.ys))/float(wave.framerate), 1.0/wave.framerate)\n",
      "    wave.ys *= np.cos(2*np.pi*frequency*t + phase)\n",
      "    return wave\n",
      "\n",
      "def find_fun_freq(wave):\n",
      "    spec = wave.make_spectrum()\n",
      "    freqs = np.real(spec.hs)\n",
      "    itemindex = np.where(freqs==max(freqs))[0][0]\n",
      "    return spec.fs[itemindex]\n",
      "\n",
      "\n",
      "def read_binary_wave(wave, period):\n",
      "    \"\"\"\n",
      "    takes a binary wave and its symbolic period and converts to a binary string by looking at the sign\n",
      "    of the wave at the middle of each period\n",
      "    \"\"\"\n",
      "    \n",
      "    bin_list = []\n",
      "#     sign = wave.ys[period/2]\n",
      "    sign = 1\n",
      "    print(len(wave.ys)/float(period))\n",
      "    for i in range(1,(len(wave.ys)/period)):\n",
      "#         mid = (period*(i) - 0.5*period)\n",
      "        bin_list.append((np.mean(sign*wave.ys[period*i:period*(i+1)]) > 0))\n",
      "    return np.array(bin_list)\n",
      "\n",
      "def decode_signal(wave, frequency, period):\n",
      "#     frequency = find_fun_freq(wave)  #This seems to actually cause a lot more problems than it solves :(\n",
      "\n",
      "    phases = [np.pi/2, np.pi/4, 3*np.pi/2, 3*np.pi/4, np.pi, 5*np.pi/4, 7*np.pi/4]\n",
      "    \n",
      "    best = isolate_clicks(wave, frequency, 0)\n",
      "    spec = best.make_spectrum()\n",
      "    spec.plot()\n",
      "    spec.low_pass(400)\n",
      "    \n",
      "    temp = best\n",
      "\n",
      "    for phase in phases:\n",
      "        wave = isolate_clicks(temp,frequency,phase)\n",
      "        spec = wave.make_spectrum()\n",
      "        spec.low_pass(400)\n",
      "        wave =  spec.make_wave()\n",
      "        if abs(wave.ys[period/2]) > abs(best.ys[period/2]) and wave.ys[period/2] < 0:\n",
      "            best = wave\n",
      "#     best = select_segment(best)\n",
      "    bits = read_binary_wave(best, period)\n",
      "    string = NPbits2String(bits)\n",
      "    best.plot()\n",
      "    return string"
     ],
     "language": "python",
     "metadata": {},
     "outputs": [],
     "prompt_number": 41
    },
    {
     "cell_type": "markdown",
     "metadata": {},
     "source": [
      "**The cell below shows that our decrytor works with an audio file that was not transmitted through the air. AKA: we saved the audio file from our transmitter and just used that file to run our decryptor. As you can see, it works.**"
     ]
    },
    {
     "cell_type": "code",
     "collapsed": false,
     "input": [
      "test_wave = thinkdsp.read_wave('Audio_not_transmitted.wav')\n",
      "bits = decode_signal(test_wave, 1000,1000)\n",
      "print(bits)"
     ],
     "language": "python",
     "metadata": {},
     "outputs": [
      {
       "output_type": "stream",
       "stream": "stdout",
       "text": [
        "22.0\n",
        "cow\n"
       ]
      },
      {
       "metadata": {},
       "output_type": "display_data",
       "png": "[encoded data removed]",
       "text": [
        "<matplotlib.figure.Figure at 0xa9b401cc>"
       ]
      }
     ],
     "prompt_number": 42
    },
    {
     "cell_type": "markdown",
     "metadata": {},
     "source": [
      "**However, we ran into many problems trying to get it to work with the audio file that we recorded using the computer. It was doing strange things to the recieved frequency, and so we could not successfully decrypt it. We spent a lot of time trying to fix this problem, and trying to fix this problem did not justify the amount of time we were spending. So heres an example of it not working using a audio file transmitted through the air. Good night**"
     ]
    },
    {
     "cell_type": "code",
     "collapsed": false,
     "input": [
      "test_wave = thinkdsp.read_wave('AcousticModemRx.wav')\n",
      "wave = select_segment(test_wave)\n",
      "bits = decode_signal(wave, 1000,1000)\n",
      "print(bits)"
     ],
     "language": "python",
     "metadata": {},
     "outputs": [
      {
       "output_type": "stream",
       "stream": "stdout",
       "text": [
        "114.3\n",
        "21.89"
       ]
      },
      {
       "output_type": "stream",
       "stream": "stdout",
       "text": [
        "\n",
        "\u0000\u0000\n"
       ]
      },
      {
       "metadata": {},
       "output_type": "display_data",
       "png": "[encoded data removed]",
       "text": [
        "<matplotlib.figure.Figure at 0xa9ac074c>"
       ]
      }
     ],
     "prompt_number": 43
    }
   ],
   "metadata": {}
  }
 ]
}